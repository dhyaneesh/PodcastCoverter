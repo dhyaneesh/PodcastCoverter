{
 "cells": [
  {
   "cell_type": "code",
   "execution_count": 1,
   "id": "ceff4a85",
   "metadata": {},
   "outputs": [],
   "source": [
    "import os\n",
    "\n",
    "import feedparser\n",
    "import requests\n",
    "from bs4 import BeautifulSoup"
   ]
  },
  {
   "cell_type": "code",
   "execution_count": 2,
   "id": "dd5df3d0",
   "metadata": {},
   "outputs": [],
   "source": [
    "def queryChanger(podcastName):\n",
    "    podcastName = podcastName.replace(\" \", \"+\")\n",
    "    url = \"https://podcastaddict.com/?q=\" + podcastName\n",
    "    return url\n",
    "\n",
    "\n",
    "def scrapeQuery(url):\n",
    "    page = requests.get(url)\n",
    "    soup = BeautifulSoup(page.text, \"lxml\")\n",
    "    div = soup.find(\"div\", {\"id\": \"centertext\"})\n",
    "    a = div.find('a', {\"class\": \"clickeableItemRow\"})\n",
    "    link = a.get('href')\n",
    "    return link\n",
    "\n",
    "\n",
    "def scrapePodPage(url):\n",
    "    page = requests.get(url)\n",
    "    soup = BeautifulSoup(page.text, \"lxml\")\n",
    "    div = soup.find(\"div\", {\"class\": \"podcastHeader\"})\n",
    "    a = div.find('a')\n",
    "    link = a.get('href')\n",
    "    return link\n",
    "\n",
    "\n",
    "def nameChecker(string):\n",
    "    string = string.replace(\" \", \"_\")\n",
    "    string = string.replace(\":\", \"\")\n",
    "    string = string.replace(\"|\", \"\")\n",
    "    string = string.replace(\"__\", \"_\")\n",
    "    string = string.replace(\"___\", \"_\")\n",
    "    return string\n",
    "\n",
    "\n",
    "def rssScraper(rss, numOfEps):\n",
    "    feed = feedparser.parse(rss)\n",
    "    title = feed.feed.title\n",
    "    if not os.path.exists(title):\n",
    "        os.makedirs(title)\n",
    "    cDir = os.getcwd()\n",
    "    relDir = \"\\\\\" + title\n",
    "    nDir = cDir + relDir\n",
    "    os.chdir(nDir)\n",
    "    for i in range(numOfEps):\n",
    "        entry = feed.entries[i]\n",
    "        link = entry.enclosures[0]\n",
    "        link = link['href']\n",
    "        name = entry.title\n",
    "        name = str(i + 1) + \"_\" + name + \".mp3\"\n",
    "        name = nameChecker(name)\n",
    "        audio = requests.get(link)\n",
    "        with open(name, 'wb') as f:\n",
    "            f.write(audio.content)\n",
    "        print(name)\n",
    "        i += 1"
   ]
  },
  {
   "cell_type": "code",
   "execution_count": 3,
   "id": "46be49ef",
   "metadata": {},
   "outputs": [
    {
     "name": "stdout",
     "output_type": "stream",
     "text": [
      "Enter number of episodes needed :5\n",
      "1_#118_-_Anthropic_vs_OpenAI,_AutoGPT,_RL_at_Scale,_AI_Safety,_Memeworthy_AI_Videos.mp3\n",
      "2_#117_-_Google’s_Bard_Rush,_BloombergGPT,_ChatGPT_King,_Balenciaga_Harry_Potter.mp3\n",
      "3_#116_-_ChatGPT_plugins,_AI_hardware,_petition_to_pause_AI,_Trump_deepfakes.mp3\n",
      "4_#115_-_GPT4,_Bard,_AGI,_Alpaca,_Anthropic,_Midjourney_V5.mp3\n",
      "5_#114_-_ChatGPT_applications,_Claude,_PALM-E,_OpenAI_criticism,_AI-generated_spam.mp3\n"
     ]
    }
   ],
   "source": [
    "os.chdir('C:\\\\Users\\\\dhyan\\\\PodcastCoverter')\n",
    "\n",
    "#podcastName = input(\"Enter name of podcast :\")\n",
    "numberOfEpisodes = int(input(\"Enter number of episodes needed :\"))\n",
    "#url = queryChanger(podcastName)\n",
    "#url = scrapeQuery(url)\n",
    "#RSS_Link = scrapePodPage(url)\n",
    "rssScraper(\"https://feed.podbean.com/aitalk/feed.xml\", numberOfEpisodes)"
   ]
  },
  {
   "cell_type": "code",
   "execution_count": null,
   "id": "01212363",
   "metadata": {},
   "outputs": [],
   "source": []
  }
 ],
 "metadata": {
  "kernelspec": {
   "display_name": "Python 3 (ipykernel)",
   "language": "python",
   "name": "python3"
  },
  "language_info": {
   "codemirror_mode": {
    "name": "ipython",
    "version": 3
   },
   "file_extension": ".py",
   "mimetype": "text/x-python",
   "name": "python",
   "nbconvert_exporter": "python",
   "pygments_lexer": "ipython3",
   "version": "3.9.13"
  }
 },
 "nbformat": 4,
 "nbformat_minor": 5
}
